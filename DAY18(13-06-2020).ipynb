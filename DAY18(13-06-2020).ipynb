{
 "cells": [
  {
   "cell_type": "markdown",
   "metadata": {},
   "source": [
    "# class(day-17:13-6-20)\n",
    "- Quick Review on yesterday’s session¶\n",
    "- Explanation on Project\n",
    "- Session on problem solving\n",
    "# QUESTION"
   ]
  },
  {
   "cell_type": "markdown",
   "metadata": {},
   "source": [
    "# Input\n",
    "user_id = [1,1,2,3,3,4,4,4,5,5] \n",
    "\n",
    "ancestry=[\"England\",\"Ireland\",\"France\",\"Germany\",\"Poland\",\"England\",\"France\",\"Germany\",\"France\",\"Germany\"]\n",
    "If my required countries are France and Germany\n",
    "required = ['France', 'Germany']"
   ]
  },
  {
   "cell_type": "markdown",
   "metadata": {},
   "source": [
    "# Output\n",
    "4   \n",
    "\n",
    "5"
   ]
  },
  {
   "cell_type": "code",
   "execution_count": null,
   "metadata": {},
   "outputs": [],
   "source": []
  }
 ],
 "metadata": {
  "kernelspec": {
   "display_name": "Python 3",
   "language": "python",
   "name": "python3"
  },
  "language_info": {
   "codemirror_mode": {
    "name": "ipython",
    "version": 3
   },
   "file_extension": ".py",
   "mimetype": "text/x-python",
   "name": "python",
   "nbconvert_exporter": "python",
   "pygments_lexer": "ipython3",
   "version": "3.7.6"
  }
 },
 "nbformat": 4,
 "nbformat_minor": 4
}
