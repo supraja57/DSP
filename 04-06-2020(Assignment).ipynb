{
 "cells": [
  {
   "cell_type": "markdown",
   "metadata": {},
   "source": [
    "# M.Supraja\n",
    "# 221710401038\n",
    "# ECE"
   ]
  },
  {
   "cell_type": "markdown",
   "metadata": {},
   "source": [
    "# Question 1:\n",
    "# Write a NumPy program to reverse an array (first element becomes last).\n",
    "Original array: [12 13 14 15 16 17 18 19 20 21 22 23 24 25 26 27 28 29 30 31 32 33 34 35 36 37]\n",
    "\n",
    "Reverse array: [37 36 35 34 33 32 31 30 29 28 27 26 25 24 23 22 21 20 19 18 17 16 15 14 13 12]"
   ]
  },
  {
   "cell_type": "code",
   "execution_count": 2,
   "metadata": {},
   "outputs": [
    {
     "name": "stdout",
     "output_type": "stream",
     "text": [
      "Original array: [12 13 14 15 16 17 18 19 20 21 22 23 24 25 26 27 28 29 30 31 32 33 34 35\n",
      " 36 37]\n",
      "Reversed Array : [37 36 35 34 33 32 31 30 29 28 27 26 25 24 23 22 21 20 19 18 17 16 15 14\n",
      " 13 12]\n"
     ]
    }
   ],
   "source": [
    "import numpy as np\n",
    "original_array = np.arange(12,38)\n",
    "print(\"Original array:\", str(original_array))\n",
    "reverse_array = original_array[::-1]\n",
    "print(\"Reversed Array :\",str(reverse_array))"
   ]
  },
  {
   "cell_type": "markdown",
   "metadata": {},
   "source": [
    "# 2. Write a NumPy program to create a 2d array with 1 on the border and 0 inside.\n",
    "Original array:\n",
    "[[ 1. 1. 1. 1. 1.] ................... [ 1. 1. 1. 1. 1.]]\n",
    "\n",
    "1 on the border and 0 inside in the array\n",
    "\n",
    "Expected output:\n",
    "[[ 1. 1. 1. 1. 1.] [1. 0. 0. 0. 1.] …………….. [1. 0. 0. 0. 1.] [ 1. 1. 1. 1. 1.]]"
   ]
  },
  {
   "cell_type": "code",
   "execution_count": 7,
   "metadata": {},
   "outputs": [
    {
     "name": "stdout",
     "output_type": "stream",
     "text": [
      "Original array:  [[1 1 1 1 1]\n",
      " [1 1 1 1 1]\n",
      " [1 1 1 1 1]\n",
      " [1 1 1 1 1]\n",
      " [1 1 1 1 1]]\n",
      "1 on the border and 0 inside in the array\n",
      "Output array [[1 1 1 1 1]\n",
      " [1 0 0 0 1]\n",
      " [1 0 0 0 1]\n",
      " [1 0 0 0 1]\n",
      " [1 1 1 1 1]]\n"
     ]
    }
   ],
   "source": [
    "import numpy as np\n",
    "o = np.ones((5,5),dtype = \"int32\")\n",
    "print(\"Original array: \",o)\n",
    "print(\"1 on the border and 0 inside in the array\")\n",
    "o[1:-1,1:-1] = 0\n",
    "print(\"Output array\",o)"
   ]
  },
  {
   "cell_type": "markdown",
   "metadata": {},
   "source": [
    "# Question 3:\n",
    "[Membership Test]\n",
    "# Write a NumPy program to test whether each element of a 1-D array is also present in a second array.\n",
    "Expected Output:\n",
    "\n",
    "Array1: [ 0 10 20 40 60]\n",
    "\n",
    "Array2: [0, 40]\n",
    "\n",
    "Compare each element of array1 and array2\n",
    "\n",
    "[ True False False True False]"
   ]
  },
  {
   "cell_type": "code",
   "execution_count": 6,
   "metadata": {},
   "outputs": [
    {
     "name": "stdout",
     "output_type": "stream",
     "text": [
      "[ 0 10 20 40 60]\n",
      "[ 0 40]\n",
      "[ True False False  True False]\n"
     ]
    }
   ],
   "source": [
    "import numpy as np\n",
    "a1 = np.array([0,10,20,40,60])\n",
    "print(a1)\n",
    "a2 = np.array([0,40])\n",
    "print(a2)\n",
    "print(np.in1d(a1,a2))"
   ]
  },
  {
   "cell_type": "markdown",
   "metadata": {},
   "source": [
    "# Question 4:\n",
    "[Set Difference]\n",
    "\n",
    "# Write a NumPy program to find the set difference of two arrays. The set difference will return the sorted, unique values in array1 that are not in array2.\n",
    "Expected Output:\n",
    "Array1: [ 0 10 20 40 60 80]\n",
    "\n",
    "Array2: [10, 30, 40, 50, 70, 90]\n",
    "\n",
    "Set difference between two arrays:\n",
    "\n",
    "[ 0 20 60 80]"
   ]
  },
  {
   "cell_type": "code",
   "execution_count": 12,
   "metadata": {},
   "outputs": [
    {
     "name": "stdout",
     "output_type": "stream",
     "text": [
      "Array1:  [ 0 10 20 40 60 80]\n",
      "Array2:  [10 30 40 50 70 90]\n",
      "Set difference between two arrays: [ 0 20 60 80]\n"
     ]
    }
   ],
   "source": [
    "import numpy as np\n",
    "a1 = np.array([0,10,20,40,60,80])\n",
    "a2 = np.array([10,30,40,50,70,90])\n",
    "print(\"Array1: \",a1)\n",
    "print(\"Array2: \",a2)\n",
    "out=np.setdiff1d(a1,a2)   # Array set operations, set difference , elements in a1 that are no in a2\n",
    "print(\"Set difference between two arrays:\",out)"
   ]
  },
  {
   "cell_type": "markdown",
   "metadata": {},
   "source": [
    "# Question 5:\n",
    "[Formation of Diagonal Matrix]\n",
    "\n",
    "# Write a NumPy program to create a 2-D array whose diagonal equals [4, 5, 6, 8] and 0's elsewhere.\n",
    "Expected Output:\n",
    "[[4 0 0 0]\n",
    "\n",
    "[0 5 0 0]\n",
    "\n",
    "[0 0 6 0]\n",
    "\n",
    "[0 0 0 8]]"
   ]
  },
  {
   "cell_type": "code",
   "execution_count": 13,
   "metadata": {},
   "outputs": [
    {
     "name": "stdout",
     "output_type": "stream",
     "text": [
      "[[4 0 0 0]\n",
      " [0 5 0 0]\n",
      " [0 0 6 0]\n",
      " [0 0 0 8]]\n"
     ]
    }
   ],
   "source": [
    "import numpy as np\n",
    "a = np.diagflat([4,5,6,8])\n",
    "print(a)"
   ]
  },
  {
   "cell_type": "code",
   "execution_count": null,
   "metadata": {},
   "outputs": [],
   "source": []
  }
 ],
 "metadata": {
  "kernelspec": {
   "display_name": "Python 3",
   "language": "python",
   "name": "python3"
  },
  "language_info": {
   "codemirror_mode": {
    "name": "ipython",
    "version": 3
   },
   "file_extension": ".py",
   "mimetype": "text/x-python",
   "name": "python",
   "nbconvert_exporter": "python",
   "pygments_lexer": "ipython3",
   "version": "3.7.6"
  }
 },
 "nbformat": 4,
 "nbformat_minor": 4
}
