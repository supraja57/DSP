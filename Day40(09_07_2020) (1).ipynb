{
  "nbformat": 4,
  "nbformat_minor": 0,
  "metadata": {
    "colab": {
      "name": "Day40(09.07.2020).ipynb",
      "provenance": []
    },
    "kernelspec": {
      "name": "python3",
      "display_name": "Python 3"
    }
  },
  "cells": [
    {
      "cell_type": "markdown",
      "metadata": {
        "id": "HFqvdz9JnVD3",
        "colab_type": "text"
      },
      "source": [
        "\n",
        "class(day-40:9-7-20)\n",
        "Hand-Written Digits Recognition\n"
      ]
    },
    {
      "cell_type": "markdown",
      "metadata": {
        "id": "gONE9wYinkYk",
        "colab_type": "text"
      },
      "source": [
        "Data collection:"
      ]
    },
    {
      "cell_type": "code",
      "metadata": {
        "id": "XZ5nHelUnMLH",
        "colab_type": "code",
        "colab": {
          "base_uri": "https://localhost:8080/",
          "height": 72
        },
        "outputId": "bf148642-f307-4f7e-a3c3-f4e10485db63"
      },
      "source": [
        "#impoting libs:\n",
        "import tensorflow as tf\n",
        "import tensorflow.keras as keras\n",
        "import numpy as np\n",
        "import pandas as pd\n",
        "import matplotlib.pyplot as plt\n",
        "import seaborn as sns\n",
        "%matplotlib inline"
      ],
      "execution_count": null,
      "outputs": [
        {
          "output_type": "stream",
          "text": [
            "/usr/local/lib/python3.6/dist-packages/statsmodels/tools/_testing.py:19: FutureWarning: pandas.util.testing is deprecated. Use the functions in the public API at pandas.testing instead.\n",
            "  import pandas.util.testing as tm\n"
          ],
          "name": "stderr"
        }
      ]
    },
    {
      "cell_type": "code",
      "metadata": {
        "id": "RQF0GOsFnvK2",
        "colab_type": "code",
        "colab": {
          "base_uri": "https://localhost:8080/",
          "height": 34
        },
        "outputId": "a9de74ff-c771-4fa8-f54a-dabb750f77de"
      },
      "source": [
        "from keras.datasets.mnist import load_data"
      ],
      "execution_count": null,
      "outputs": [
        {
          "output_type": "stream",
          "text": [
            "Using TensorFlow backend.\n"
          ],
          "name": "stderr"
        }
      ]
    },
    {
      "cell_type": "code",
      "metadata": {
        "id": "ADPsnr1Un3bW",
        "colab_type": "code",
        "colab": {
          "base_uri": "https://localhost:8080/",
          "height": 70
        },
        "outputId": "49111c1f-a6c9-4966-bf88-753343bc10f4"
      },
      "source": [
        "## load_data-->return value is two tuples train and test\n",
        "(train_digits,train_labels),(test_digits,test_labels)=load_data()\n",
        "print(train_digits.shape)"
      ],
      "execution_count": null,
      "outputs": [
        {
          "output_type": "stream",
          "text": [
            "Downloading data from https://s3.amazonaws.com/img-datasets/mnist.npz\n",
            "11493376/11490434 [==============================] - 0s 0us/step\n",
            "(60000, 28, 28)\n"
          ],
          "name": "stdout"
        }
      ]
    },
    {
      "cell_type": "code",
      "metadata": {
        "id": "uw41Wlm5n7iW",
        "colab_type": "code",
        "colab": {
          "base_uri": "https://localhost:8080/",
          "height": 34
        },
        "outputId": "c2b7ebb5-e4d5-4b81-c07a-8a309c176081"
      },
      "source": [
        "print(test_digits.shape)"
      ],
      "execution_count": null,
      "outputs": [
        {
          "output_type": "stream",
          "text": [
            "(10000, 28, 28)\n"
          ],
          "name": "stdout"
        }
      ]
    },
    {
      "cell_type": "code",
      "metadata": {
        "id": "Jb0y9ElFoFMn",
        "colab_type": "code",
        "colab": {
          "base_uri": "https://localhost:8080/",
          "height": 34
        },
        "outputId": "8f9a0ae0-7c12-4710-9e04-9adea4136bb2"
      },
      "source": [
        "\n",
        "print(train_labels.shape)"
      ],
      "execution_count": null,
      "outputs": [
        {
          "output_type": "stream",
          "text": [
            "(60000,)\n"
          ],
          "name": "stdout"
        }
      ]
    },
    {
      "cell_type": "markdown",
      "metadata": {
        "id": "-yy1BrlzoNP2",
        "colab_type": "text"
      },
      "source": [
        "to get the class wise counts"
      ]
    },
    {
      "cell_type": "code",
      "metadata": {
        "id": "zliPRWkWoJeX",
        "colab_type": "code",
        "colab": {
          "base_uri": "https://localhost:8080/",
          "height": 34
        },
        "outputId": "f9652db8-d9a6-43f3-df50-0567394612ab"
      },
      "source": [
        "type(train_labels)"
      ],
      "execution_count": null,
      "outputs": [
        {
          "output_type": "execute_result",
          "data": {
            "text/plain": [
              "numpy.ndarray"
            ]
          },
          "metadata": {
            "tags": []
          },
          "execution_count": 6
        }
      ]
    },
    {
      "cell_type": "code",
      "metadata": {
        "id": "8H1p5kgRoX_v",
        "colab_type": "code",
        "colab": {
          "base_uri": "https://localhost:8080/",
          "height": 212
        },
        "outputId": "6e1cd58b-513f-480b-d97a-f9a0a5219aef"
      },
      "source": [
        "\n",
        "pd.Series(train_labels).value_counts()"
      ],
      "execution_count": null,
      "outputs": [
        {
          "output_type": "execute_result",
          "data": {
            "text/plain": [
              "1    6742\n",
              "7    6265\n",
              "3    6131\n",
              "2    5958\n",
              "9    5949\n",
              "0    5923\n",
              "6    5918\n",
              "8    5851\n",
              "4    5842\n",
              "5    5421\n",
              "dtype: int64"
            ]
          },
          "metadata": {
            "tags": []
          },
          "execution_count": 7
        }
      ]
    },
    {
      "cell_type": "code",
      "metadata": {
        "id": "QDTfJHZ4ocxP",
        "colab_type": "code",
        "colab": {
          "base_uri": "https://localhost:8080/",
          "height": 212
        },
        "outputId": "0201c5d9-8b9f-4525-88b3-e0d2f04cc64e"
      },
      "source": [
        "\n",
        "pd.Series(test_labels).value_counts()"
      ],
      "execution_count": null,
      "outputs": [
        {
          "output_type": "execute_result",
          "data": {
            "text/plain": [
              "1    1135\n",
              "2    1032\n",
              "7    1028\n",
              "3    1010\n",
              "9    1009\n",
              "4     982\n",
              "0     980\n",
              "8     974\n",
              "6     958\n",
              "5     892\n",
              "dtype: int64"
            ]
          },
          "metadata": {
            "tags": []
          },
          "execution_count": 8
        }
      ]
    },
    {
      "cell_type": "markdown",
      "metadata": {
        "id": "eFLPIPFIpJlp",
        "colab_type": "text"
      },
      "source": [
        "EDA"
      ]
    },
    {
      "cell_type": "code",
      "metadata": {
        "id": "Nw9ICc5ZpFjh",
        "colab_type": "code",
        "colab": {
          "base_uri": "https://localhost:8080/",
          "height": 282
        },
        "outputId": "6bd1b191-4643-464f-faee-94d1e5637144"
      },
      "source": [
        "plt.imshow(train_digits[0])"
      ],
      "execution_count": null,
      "outputs": [
        {
          "output_type": "execute_result",
          "data": {
            "text/plain": [
              "<matplotlib.image.AxesImage at 0x7fbe4c4eacc0>"
            ]
          },
          "metadata": {
            "tags": []
          },
          "execution_count": 9
        },
        {
          "output_type": "display_data",
          "data": {
            "image/png": "[encoded data removed]",
            "text/plain": [
              "<Figure size 432x288 with 1 Axes>"
            ]
          },
          "metadata": {
            "tags": [],
            "needs_background": "light"
          }
        }
      ]
    },
    {
      "cell_type": "code",
      "metadata": {
        "id": "4A-zeqm6pNgw",
        "colab_type": "code",
        "colab": {
          "base_uri": "https://localhost:8080/",
          "height": 282
        },
        "outputId": "7629432a-dc7c-4986-c22a-7f1fb0dcc5eb"
      },
      "source": [
        "plt.imshow(train_digits[5],cmap=\"gray\")"
      ],
      "execution_count": null,
      "outputs": [
        {
          "output_type": "execute_result",
          "data": {
            "text/plain": [
              "<matplotlib.image.AxesImage at 0x7fbe4bfbd438>"
            ]
          },
          "metadata": {
            "tags": []
          },
          "execution_count": 10
        },
        {
          "output_type": "display_data",
          "data": {
            "image/png": "[encoded data removed]",
            "text/plain": [
              "<Figure size 432x288 with 1 Axes>"
            ]
          },
          "metadata": {
            "tags": [],
            "needs_background": "light"
          }
        }
      ]
    },
    {
      "cell_type": "code",
      "metadata": {
        "id": "vMA2fMwNpRKW",
        "colab_type": "code",
        "colab": {
          "base_uri": "https://localhost:8080/",
          "height": 298
        },
        "outputId": "62495b07-a076-4410-eaac-7df4781cab50"
      },
      "source": [
        "plt.imshow(train_digits[10])\n",
        "plt.title(\"DIGIT \"+str(train_labels[10]))"
      ],
      "execution_count": null,
      "outputs": [
        {
          "output_type": "execute_result",
          "data": {
            "text/plain": [
              "Text(0.5, 1.0, 'DIGIT 3')"
            ]
          },
          "metadata": {
            "tags": []
          },
          "execution_count": 11
        },
        {
          "output_type": "display_data",
          "data": {
            "image/png": "[encoded data removed]",
            "text/plain": [
              "<Figure size 432x288 with 1 Axes>"
            ]
          },
          "metadata": {
            "tags": [],
            "needs_background": "light"
          }
        }
      ]
    },
    {
      "cell_type": "code",
      "metadata": {
        "id": "QUSmaUaepX5l",
        "colab_type": "code",
        "colab": {
          "base_uri": "https://localhost:8080/",
          "height": 815
        },
        "outputId": "5fe80bb0-6bc9-4977-f5c9-ac096dd3bbe9"
      },
      "source": [
        "plt.hist(train_digits[0])"
      ],
      "execution_count": null,
      "outputs": [
        {
          "output_type": "execute_result",
          "data": {
            "text/plain": [
              "(array([[28.,  0.,  0.,  0.,  0.,  0.,  0.,  0.,  0.,  0.],\n",
              "        [28.,  0.,  0.,  0.,  0.,  0.,  0.,  0.,  0.,  0.],\n",
              "        [28.,  0.,  0.,  0.,  0.,  0.,  0.,  0.,  0.,  0.],\n",
              "        [28.,  0.,  0.,  0.,  0.,  0.,  0.,  0.,  0.,  0.],\n",
              "        [26.,  0.,  1.,  0.,  0.,  1.,  0.,  0.,  0.,  0.],\n",
              "        [26.,  0.,  0.,  0.,  0.,  0.,  1.,  0.,  0.,  1.],\n",
              "        [26.,  0.,  0.,  0.,  0.,  0.,  0.,  0.,  1.,  1.],\n",
              "        [24.,  1.,  0.,  0.,  0.,  0.,  1.,  0.,  0.,  2.],\n",
              "        [21.,  1.,  0.,  1.,  0.,  0.,  0.,  0.,  3.,  2.],\n",
              "        [20.,  1.,  1.,  0.,  0.,  1.,  1.,  0.,  0.,  4.],\n",
              "        [20.,  0.,  0.,  1.,  1.,  1.,  0.,  0.,  1.,  4.],\n",
              "        [18.,  0.,  0.,  0.,  1.,  1.,  2.,  0.,  0.,  6.],\n",
              "        [15.,  2.,  0.,  0.,  0.,  1.,  1.,  1.,  1.,  7.],\n",
              "        [15.,  0.,  0.,  2.,  0.,  1.,  0.,  2.,  1.,  7.],\n",
              "        [16.,  2.,  1.,  1.,  0.,  0.,  0.,  1.,  2.,  5.],\n",
              "        [18.,  0.,  0.,  0.,  0.,  1.,  1.,  3.,  0.,  5.],\n",
              "        [15.,  1.,  0.,  2.,  2.,  0.,  0.,  1.,  0.,  7.],\n",
              "        [16.,  0.,  0.,  0.,  1.,  1.,  1.,  1.,  0.,  8.],\n",
              "        [19.,  0.,  0.,  2.,  0.,  1.,  1.,  0.,  1.,  4.],\n",
              "        [20.,  2.,  0.,  1.,  0.,  0.,  1.,  2.,  1.,  1.],\n",
              "        [24.,  0.,  1.,  1.,  0.,  0.,  1.,  0.,  0.,  1.],\n",
              "        [25.,  0.,  1.,  0.,  0.,  0.,  0.,  0.,  0.,  2.],\n",
              "        [25.,  1.,  0.,  0.,  0.,  0.,  0.,  1.,  0.,  1.],\n",
              "        [26.,  0.,  1.,  0.,  1.,  0.,  0.,  0.,  0.,  0.],\n",
              "        [28.,  0.,  0.,  0.,  0.,  0.,  0.,  0.,  0.,  0.],\n",
              "        [28.,  0.,  0.,  0.,  0.,  0.,  0.,  0.,  0.,  0.],\n",
              "        [28.,  0.,  0.,  0.,  0.,  0.,  0.,  0.,  0.,  0.],\n",
              "        [28.,  0.,  0.,  0.,  0.,  0.,  0.,  0.,  0.,  0.]]),\n",
              " array([  0. ,  25.5,  51. ,  76.5, 102. , 127.5, 153. , 178.5, 204. ,\n",
              "        229.5, 255. ]),\n",
              " <a list of 28 Lists of Patches objects>)"
            ]
          },
          "metadata": {
            "tags": []
          },
          "execution_count": 12
        },
        {
          "output_type": "display_data",
          "data": {
            "image/png": "[encoded data removed]",
            "text/plain": [
              "<Figure size 432x288 with 1 Axes>"
            ]
          },
          "metadata": {
            "tags": [],
            "needs_background": "light"
          }
        }
      ]
    },
    {
      "cell_type": "code",
      "metadata": {
        "id": "RAlpCClNpatE",
        "colab_type": "code",
        "colab": {
          "base_uri": "https://localhost:8080/",
          "height": 833
        },
        "outputId": "81b9b8f5-b502-4ad4-9122-0342f7295177"
      },
      "source": [
        "plt.hist(train_digits[0],bins=255)"
      ],
      "execution_count": null,
      "outputs": [
        {
          "output_type": "execute_result",
          "data": {
            "text/plain": [
              "(array([[28.,  0.,  0., ...,  0.,  0.,  0.],\n",
              "        [28.,  0.,  0., ...,  0.,  0.,  0.],\n",
              "        [28.,  0.,  0., ...,  0.,  0.,  0.],\n",
              "        ...,\n",
              "        [28.,  0.,  0., ...,  0.,  0.,  0.],\n",
              "        [28.,  0.,  0., ...,  0.,  0.,  0.],\n",
              "        [28.,  0.,  0., ...,  0.,  0.,  0.]]),\n",
              " array([  0.,   1.,   2.,   3.,   4.,   5.,   6.,   7.,   8.,   9.,  10.,\n",
              "         11.,  12.,  13.,  14.,  15.,  16.,  17.,  18.,  19.,  20.,  21.,\n",
              "         22.,  23.,  24.,  25.,  26.,  27.,  28.,  29.,  30.,  31.,  32.,\n",
              "         33.,  34.,  35.,  36.,  37.,  38.,  39.,  40.,  41.,  42.,  43.,\n",
              "         44.,  45.,  46.,  47.,  48.,  49.,  50.,  51.,  52.,  53.,  54.,\n",
              "         55.,  56.,  57.,  58.,  59.,  60.,  61.,  62.,  63.,  64.,  65.,\n",
              "         66.,  67.,  68.,  69.,  70.,  71.,  72.,  73.,  74.,  75.,  76.,\n",
              "         77.,  78.,  79.,  80.,  81.,  82.,  83.,  84.,  85.,  86.,  87.,\n",
              "         88.,  89.,  90.,  91.,  92.,  93.,  94.,  95.,  96.,  97.,  98.,\n",
              "         99., 100., 101., 102., 103., 104., 105., 106., 107., 108., 109.,\n",
              "        110., 111., 112., 113., 114., 115., 116., 117., 118., 119., 120.,\n",
              "        121., 122., 123., 124., 125., 126., 127., 128., 129., 130., 131.,\n",
              "        132., 133., 134., 135., 136., 137., 138., 139., 140., 141., 142.,\n",
              "        143., 144., 145., 146., 147., 148., 149., 150., 151., 152., 153.,\n",
              "        154., 155., 156., 157., 158., 159., 160., 161., 162., 163., 164.,\n",
              "        165., 166., 167., 168., 169., 170., 171., 172., 173., 174., 175.,\n",
              "        176., 177., 178., 179., 180., 181., 182., 183., 184., 185., 186.,\n",
              "        187., 188., 189., 190., 191., 192., 193., 194., 195., 196., 197.,\n",
              "        198., 199., 200., 201., 202., 203., 204., 205., 206., 207., 208.,\n",
              "        209., 210., 211., 212., 213., 214., 215., 216., 217., 218., 219.,\n",
              "        220., 221., 222., 223., 224., 225., 226., 227., 228., 229., 230.,\n",
              "        231., 232., 233., 234., 235., 236., 237., 238., 239., 240., 241.,\n",
              "        242., 243., 244., 245., 246., 247., 248., 249., 250., 251., 252.,\n",
              "        253., 254., 255.]),\n",
              " <a list of 28 Lists of Patches objects>)"
            ]
          },
          "metadata": {
            "tags": []
          },
          "execution_count": 13
        },
        {
          "output_type": "display_data",
          "data": {
            "image/png": "[encoded data removed]",
            "text/plain": [
              "<Figure size 432x288 with 1 Axes>"
            ]
          },
          "metadata": {
            "tags": [],
            "needs_background": "light"
          }
        }
      ]
    },
    {
      "cell_type": "code",
      "metadata": {
        "id": "yxn-3Yhzpe4b",
        "colab_type": "code",
        "colab": {
          "base_uri": "https://localhost:8080/",
          "height": 335
        },
        "outputId": "ba486605-b782-4f00-dd66-39874cf6aaed"
      },
      "source": [
        "plt.hist(train_digits[0].flat)"
      ],
      "execution_count": null,
      "outputs": [
        {
          "output_type": "execute_result",
          "data": {
            "text/plain": [
              "(array([639.,  11.,   6.,  11.,   6.,   9.,  11.,  12.,  11.,  68.]),\n",
              " array([  0. ,  25.5,  51. ,  76.5, 102. , 127.5, 153. , 178.5, 204. ,\n",
              "        229.5, 255. ]),\n",
              " <a list of 10 Patch objects>)"
            ]
          },
          "metadata": {
            "tags": []
          },
          "execution_count": 14
        },
        {
          "output_type": "display_data",
          "data": {
            "image/png": "[encoded data removed]",
            "text/plain": [
              "<Figure size 432x288 with 1 Axes>"
            ]
          },
          "metadata": {
            "tags": [],
            "needs_background": "light"
          }
        }
      ]
    },
    {
      "cell_type": "code",
      "metadata": {
        "id": "YNObomVZpl-k",
        "colab_type": "code",
        "colab": {
          "base_uri": "https://localhost:8080/",
          "height": 52
        },
        "outputId": "0f2e8d81-3bdb-4bdb-bd76-debf0d23b9a4"
      },
      "source": [
        "\n",
        "samples=np.random.randint(train_digits.shape[0],size=16)\n",
        "samples"
      ],
      "execution_count": null,
      "outputs": [
        {
          "output_type": "execute_result",
          "data": {
            "text/plain": [
              "array([46058, 58015, 38323,  1297,  8145, 19007, 48109, 40430,  1496,\n",
              "       36920, 49850, 34691, 31434, 12641, 42966, 48650])"
            ]
          },
          "metadata": {
            "tags": []
          },
          "execution_count": 15
        }
      ]
    },
    {
      "cell_type": "code",
      "metadata": {
        "id": "IcSnwGaUpqc1",
        "colab_type": "code",
        "colab": {
          "base_uri": "https://localhost:8080/",
          "height": 916
        },
        "outputId": "4be94073-11c1-4a04-ea44-2137a0bc57df"
      },
      "source": [
        "plt.figure(figsize=(16,16))\n",
        "j=1\n",
        "for i in samples:\n",
        "  plt.subplot(4,4,j)\n",
        "  plt.imshow(train_digits[i])\n",
        "  plt.title(\"DIGIT \"+str(train_labels[i]))\n",
        "  plt.axis('off')\n",
        "  j+=1"
      ],
      "execution_count": null,
      "outputs": [
        {
          "output_type": "display_data",
          "data": {
            "image/png": "[encoded data removed]",
            "text/plain": [
              "<Figure size 1152x1152 with 16 Axes>"
            ]
          },
          "metadata": {
            "tags": [],
            "needs_background": "light"
          }
        }
      ]
    },
    {
      "cell_type": "code",
      "metadata": {
        "id": "MHhLzfzupu9V",
        "colab_type": "code",
        "colab": {
          "base_uri": "https://localhost:8080/",
          "height": 934
        },
        "outputId": "2458b10e-71c7-4df9-c429-a76543262c6b"
      },
      "source": [
        "plt.figure(figsize=(16,16))\n",
        "j=1\n",
        "for i in samples:\n",
        "  plt.subplot(4,4,j)\n",
        "  plt.hist(train_digits[i].flat)\n",
        "  plt.title(\"DIGIT \"+str(train_labels[i]))\n",
        "  j+=1"
      ],
      "execution_count": null,
      "outputs": [
        {
          "output_type": "display_data",
          "data": {
            "image/png": "[encoded data removed]",
            "text/plain": [
              "<Figure size 1152x1152 with 16 Axes>"
            ]
          },
          "metadata": {
            "tags": [],
            "needs_background": "light"
          }
        }
      ]
    },
    {
      "cell_type": "markdown",
      "metadata": {
        "id": "4_CjnOBPp4Tf",
        "colab_type": "text"
      },
      "source": [
        "**Pre-processing**"
      ]
    },
    {
      "cell_type": "markdown",
      "metadata": {
        "id": "ks5aKO9vqAOY",
        "colab_type": "text"
      },
      "source": [
        "**Scaling:**"
      ]
    },
    {
      "cell_type": "code",
      "metadata": {
        "id": "sgB2cVjPpzlz",
        "colab_type": "code",
        "colab": {}
      },
      "source": [
        "train_digits_sc= train_digits/255.0\n",
        "test_digits_sc=test_digits/255.0"
      ],
      "execution_count": null,
      "outputs": []
    },
    {
      "cell_type": "code",
      "metadata": {
        "id": "B2HOp7djqHAq",
        "colab_type": "code",
        "colab": {
          "base_uri": "https://localhost:8080/",
          "height": 34
        },
        "outputId": "591d5ef1-facc-4cdb-df94-896c2aaddba9"
      },
      "source": [
        "train_labels"
      ],
      "execution_count": null,
      "outputs": [
        {
          "output_type": "execute_result",
          "data": {
            "text/plain": [
              "array([5, 0, 4, ..., 5, 6, 8], dtype=uint8)"
            ]
          },
          "metadata": {
            "tags": []
          },
          "execution_count": 19
        }
      ]
    },
    {
      "cell_type": "code",
      "metadata": {
        "id": "2LlAWDsVqJ_J",
        "colab_type": "code",
        "colab": {}
      },
      "source": [
        "#Convert labels into CATEGORICAL VALUES:\n",
        "from keras.utils import to_categorical\n",
        "train_labels_cat=to_categorical(train_labels)"
      ],
      "execution_count": null,
      "outputs": []
    },
    {
      "cell_type": "code",
      "metadata": {
        "id": "uNZki8wZqNxP",
        "colab_type": "code",
        "colab": {
          "base_uri": "https://localhost:8080/",
          "height": 34
        },
        "outputId": "fbf8fd94-0e77-4cf2-ebe9-1ec169951806"
      },
      "source": [
        "train_labels_cat[0]"
      ],
      "execution_count": null,
      "outputs": [
        {
          "output_type": "execute_result",
          "data": {
            "text/plain": [
              "array([0., 0., 0., 0., 0., 1., 0., 0., 0., 0.], dtype=float32)"
            ]
          },
          "metadata": {
            "tags": []
          },
          "execution_count": 21
        }
      ]
    },
    {
      "cell_type": "code",
      "metadata": {
        "id": "EjoJvVO0qRk5",
        "colab_type": "code",
        "colab": {
          "base_uri": "https://localhost:8080/",
          "height": 34
        },
        "outputId": "80778623-e67e-4b0d-dea3-de5d13a90e38"
      },
      "source": [
        "test_labels_cat=to_categorical(test_labels)\n",
        "test_labels_cat[0]"
      ],
      "execution_count": null,
      "outputs": [
        {
          "output_type": "execute_result",
          "data": {
            "text/plain": [
              "array([0., 0., 0., 0., 0., 0., 0., 1., 0., 0.], dtype=float32)"
            ]
          },
          "metadata": {
            "tags": []
          },
          "execution_count": 22
        }
      ]
    },
    {
      "cell_type": "markdown",
      "metadata": {
        "id": "KnhrXUTqqZxx",
        "colab_type": "text"
      },
      "source": [
        "**Splitting and Validating the data:**"
      ]
    },
    {
      "cell_type": "code",
      "metadata": {
        "id": "6e0ROmFmqVkM",
        "colab_type": "code",
        "colab": {
          "base_uri": "https://localhost:8080/",
          "height": 87
        },
        "outputId": "75756e4a-4faf-46c5-8675-b16f166a4b47"
      },
      "source": [
        "from sklearn.model_selection import train_test_split\n",
        "X_train,X_val,y_train,y_val=train_test_split(train_digits_sc,train_labels_cat,test_size=0.1,random_state=54)\n",
        "print(X_train.shape)\n",
        "print(X_val.shape)\n",
        "print(y_train.shape)\n",
        "print(y_val.shape)"
      ],
      "execution_count": null,
      "outputs": [
        {
          "output_type": "stream",
          "text": [
            "(54000, 28, 28)\n",
            "(6000, 28, 28)\n",
            "(54000, 10)\n",
            "(6000, 10)\n"
          ],
          "name": "stdout"
        }
      ]
    },
    {
      "cell_type": "markdown",
      "metadata": {
        "id": "r-Mfa48vqrUi",
        "colab_type": "text"
      },
      "source": [
        "**\n",
        "Building and Training the MODEL**"
      ]
    },
    {
      "cell_type": "code",
      "metadata": {
        "id": "k7vm7fFKqjDG",
        "colab_type": "code",
        "colab": {}
      },
      "source": [
        "-we need to take 1d array as input for DENSE layer\n",
        "-How many Hidden Layer?\n",
        "-How many Neuron in each layer?\n",
        "-what is the ACTIVATION FUNCTION for the Hiddem=n layers?\n",
        "-How many neurons in the OUTPUT layer?\n",
        "-What is the ACTIVATION function for output layer?\n"
      ],
      "execution_count": null,
      "outputs": []
    },
    {
      "cell_type": "code",
      "metadata": {
        "id": "VMWI1JgJq9Z-",
        "colab_type": "code",
        "colab": {}
      },
      "source": [
        "\n",
        "#Build the Model:\n",
        "from keras.models import Sequential\n",
        "from keras.layers import Dense,Flatten"
      ],
      "execution_count": null,
      "outputs": []
    },
    {
      "cell_type": "code",
      "metadata": {
        "id": "btdP_mMXrBM-",
        "colab_type": "code",
        "colab": {
          "base_uri": "https://localhost:8080/",
          "height": 443
        },
        "outputId": "308bb997-f4e4-4c1e-a169-7b7b0823d44e"
      },
      "source": [
        "#Now, we are creating the skeleton(the structure of the model)\n",
        "#how many hidden layers, how many neurons etc.\n",
        "model= Sequential()\n",
        "#first layer:\n",
        "model.add(Flatten(input_shape=(28,28))) #input layer\n",
        "#784 pixel values as input to DENSE . 128 Neurons in the Layers.\n",
        "#hidden layers:\n",
        "model.add(Dense(128,activation='relu')) #728*28+128(bias) #128 bias for 128 nodes\n",
        "model.add(Dense(128,activation='relu'))\n",
        "model.add(Dense(64,activation='relu'))\n",
        "model.add(Dense(256,activation='relu'))\n",
        "model.add(Dense(256,activation='relu'))\n",
        "model.add(Dense(64,activation='relu'))\n",
        "#final layer:\n",
        "model.add(Dense(10,activation='softmax')) #10 because--> there are 10 classes in the output layer\n",
        "model.summary()\n"
      ],
      "execution_count": null,
      "outputs": [
        {
          "output_type": "stream",
          "text": [
            "Model: \"sequential_1\"\n",
            "_________________________________________________________________\n",
            "Layer (type)                 Output Shape              Param #   \n",
            "=================================================================\n",
            "flatten_1 (Flatten)          (None, 784)               0         \n",
            "_________________________________________________________________\n",
            "dense_1 (Dense)              (None, 128)               100480    \n",
            "_________________________________________________________________\n",
            "dense_2 (Dense)              (None, 128)               16512     \n",
            "_________________________________________________________________\n",
            "dense_3 (Dense)              (None, 64)                8256      \n",
            "_________________________________________________________________\n",
            "dense_4 (Dense)              (None, 256)               16640     \n",
            "_________________________________________________________________\n",
            "dense_5 (Dense)              (None, 256)               65792     \n",
            "_________________________________________________________________\n",
            "dense_6 (Dense)              (None, 64)                16448     \n",
            "_________________________________________________________________\n",
            "dense_7 (Dense)              (None, 10)                650       \n",
            "=================================================================\n",
            "Total params: 224,778\n",
            "Trainable params: 224,778\n",
            "Non-trainable params: 0\n",
            "_________________________________________________________________\n"
          ],
          "name": "stdout"
        }
      ]
    },
    {
      "cell_type": "code",
      "metadata": {
        "id": "lXdKld6mrFSI",
        "colab_type": "code",
        "colab": {}
      },
      "source": [
        "Compile the MODEL\n",
        "-what is the LOSS Func?\n",
        "-What is the OPTIMIZER?\n",
        "-What are the METRICS?"
      ],
      "execution_count": null,
      "outputs": []
    },
    {
      "cell_type": "code",
      "metadata": {
        "id": "SjHx5mxnrOCW",
        "colab_type": "code",
        "colab": {}
      },
      "source": [
        "model.compile(optimizer='adam',loss=tf.keras.losses.CategoricalCrossentropy(),metrics=['accuracy'])"
      ],
      "execution_count": null,
      "outputs": []
    },
    {
      "cell_type": "markdown",
      "metadata": {
        "id": "Edi_ePYqrTbq",
        "colab_type": "text"
      },
      "source": [
        "**Train the model**"
      ]
    },
    {
      "cell_type": "code",
      "metadata": {
        "id": "x-avBwBUrRbb",
        "colab_type": "code",
        "colab": {
          "base_uri": "https://localhost:8080/",
          "height": 390
        },
        "outputId": "91f3e2ad-5599-458f-b1d3-f3283f95f758"
      },
      "source": [
        "\n",
        "history = model.fit(x=X_train,y=y_train,epochs=10,validation_data=(X_val,y_val),batch_size=32)"
      ],
      "execution_count": null,
      "outputs": [
        {
          "output_type": "stream",
          "text": [
            "Train on 54000 samples, validate on 6000 samples\n",
            "Epoch 1/10\n",
            "54000/54000 [==============================] - 10s 187us/step - loss: 0.2781 - accuracy: 0.9146 - val_loss: 0.1711 - val_accuracy: 0.9503\n",
            "Epoch 2/10\n",
            "54000/54000 [==============================] - 9s 176us/step - loss: 0.1254 - accuracy: 0.9636 - val_loss: 0.1047 - val_accuracy: 0.9697\n",
            "Epoch 3/10\n",
            "54000/54000 [==============================] - 9s 169us/step - loss: 0.0943 - accuracy: 0.9726 - val_loss: 0.0948 - val_accuracy: 0.9718\n",
            "Epoch 4/10\n",
            "54000/54000 [==============================] - 9s 165us/step - loss: 0.0778 - accuracy: 0.9770 - val_loss: 0.0857 - val_accuracy: 0.9738\n",
            "Epoch 5/10\n",
            "54000/54000 [==============================] - 9s 171us/step - loss: 0.0645 - accuracy: 0.9811 - val_loss: 0.1042 - val_accuracy: 0.9707\n",
            "Epoch 6/10\n",
            "54000/54000 [==============================] - 12s 218us/step - loss: 0.0578 - accuracy: 0.9834 - val_loss: 0.0952 - val_accuracy: 0.9723\n",
            "Epoch 7/10\n",
            "54000/54000 [==============================] - 9s 167us/step - loss: 0.0491 - accuracy: 0.9857 - val_loss: 0.0857 - val_accuracy: 0.9787\n",
            "Epoch 8/10\n",
            "54000/54000 [==============================] - 9s 169us/step - loss: 0.0462 - accuracy: 0.9866 - val_loss: 0.1036 - val_accuracy: 0.9750\n",
            "Epoch 9/10\n",
            "54000/54000 [==============================] - 9s 166us/step - loss: 0.0414 - accuracy: 0.9880 - val_loss: 0.0860 - val_accuracy: 0.9788\n",
            "Epoch 10/10\n",
            "54000/54000 [==============================] - 9s 162us/step - loss: 0.0365 - accuracy: 0.9896 - val_loss: 0.0826 - val_accuracy: 0.9802\n"
          ],
          "name": "stdout"
        }
      ]
    },
    {
      "cell_type": "code",
      "metadata": {
        "id": "1wNfEEG9rc1A",
        "colab_type": "code",
        "colab": {
          "base_uri": "https://localhost:8080/",
          "height": 52
        },
        "outputId": "e052b04e-b6a2-44d6-9ea5-086803db854f"
      },
      "source": [
        "\n",
        "model.evaluate(test_digits_sc,test_labels_cat)"
      ],
      "execution_count": null,
      "outputs": [
        {
          "output_type": "stream",
          "text": [
            "10000/10000 [==============================] - 0s 36us/step\n"
          ],
          "name": "stdout"
        },
        {
          "output_type": "execute_result",
          "data": {
            "text/plain": [
              "[0.09520441760285757, 0.9778000116348267]"
            ]
          },
          "metadata": {
            "tags": []
          },
          "execution_count": 28
        }
      ]
    },
    {
      "cell_type": "code",
      "metadata": {
        "id": "WyT2sWGQr2Ii",
        "colab_type": "code",
        "colab": {
          "base_uri": "https://localhost:8080/",
          "height": 70
        },
        "outputId": "b4796ac5-e200-4ba9-e6a0-d0b7fee4b872"
      },
      "source": [
        "print(test_digits_sc.shape)\n",
        "print(test_digits_sc[0].shape)\n",
        "print(np.expand_dims(test_digits_sc[0],axis=0).shape)"
      ],
      "execution_count": null,
      "outputs": [
        {
          "output_type": "stream",
          "text": [
            "(10000, 28, 28)\n",
            "(28, 28)\n",
            "(1, 28, 28)\n"
          ],
          "name": "stdout"
        }
      ]
    },
    {
      "cell_type": "code",
      "metadata": {
        "id": "dpipnNcRr6IS",
        "colab_type": "code",
        "colab": {
          "base_uri": "https://localhost:8080/",
          "height": 70
        },
        "outputId": "bde77a01-d125-4844-af0c-0bf486d69ee2"
      },
      "source": [
        "\n",
        "model.predict(np.expand_dims(test_digits_sc[0],axis=0))"
      ],
      "execution_count": null,
      "outputs": [
        {
          "output_type": "execute_result",
          "data": {
            "text/plain": [
              "array([[3.6466181e-17, 8.1906239e-11, 9.6417374e-10, 1.5010546e-09,\n",
              "        9.1069234e-07, 2.2914446e-15, 3.1414953e-17, 9.9999690e-01,\n",
              "        2.0580349e-10, 2.1014500e-06]], dtype=float32)"
            ]
          },
          "metadata": {
            "tags": []
          },
          "execution_count": 30
        }
      ]
    },
    {
      "cell_type": "code",
      "metadata": {
        "id": "ML1NGLeIr_e9",
        "colab_type": "code",
        "colab": {
          "base_uri": "https://localhost:8080/",
          "height": 550
        },
        "outputId": "c2a39ecc-d22e-4790-adcf-c3ce3217049e"
      },
      "source": [
        "model.predict(test_digits_sc[:10])"
      ],
      "execution_count": null,
      "outputs": [
        {
          "output_type": "execute_result",
          "data": {
            "text/plain": [
              "array([[3.64661812e-17, 8.19062387e-11, 9.64171853e-10, 1.50104895e-09,\n",
              "        9.10691483e-07, 2.29143588e-15, 3.14148340e-17, 9.99996901e-01,\n",
              "        2.05802722e-10, 2.10145026e-06],\n",
              "       [5.46875822e-10, 2.57395022e-16, 1.00000000e+00, 9.32248931e-11,\n",
              "        2.16804073e-13, 7.40262018e-13, 3.04276873e-12, 3.46613031e-14,\n",
              "        8.13047444e-15, 1.80900797e-20],\n",
              "       [2.24388094e-17, 9.99999404e-01, 5.78945891e-10, 8.04953413e-12,\n",
              "        6.12997375e-10, 9.66597080e-11, 6.13805274e-12, 7.24446725e-10,\n",
              "        5.88500313e-07, 6.77259464e-13],\n",
              "       [9.99985695e-01, 9.86001323e-15, 2.61426379e-07, 2.49510720e-07,\n",
              "        1.75504663e-11, 1.27208859e-05, 1.01179819e-06, 7.76045478e-11,\n",
              "        6.93388402e-10, 1.68056733e-08],\n",
              "       [3.75720913e-11, 6.66516231e-10, 6.70734295e-08, 5.50935903e-12,\n",
              "        9.99999166e-01, 1.93141170e-09, 2.96454683e-08, 3.63940913e-08,\n",
              "        8.49331716e-11, 7.24661163e-07],\n",
              "       [1.37318823e-22, 1.00000000e+00, 2.19908483e-13, 3.24429818e-15,\n",
              "        1.16352772e-12, 5.25585333e-14, 6.68784075e-16, 1.86664616e-12,\n",
              "        8.60027072e-09, 7.10492560e-16],\n",
              "       [3.92391166e-06, 4.97817018e-06, 2.91427481e-04, 1.37579093e-06,\n",
              "        9.97966945e-01, 1.18098496e-05, 2.70369092e-05, 3.62932478e-05,\n",
              "        1.25531778e-05, 1.64360413e-03],\n",
              "       [4.72989632e-06, 2.21455352e-07, 1.14023505e-05, 6.45416602e-03,\n",
              "        9.48981033e-05, 1.13518923e-04, 7.63272570e-11, 2.06615259e-05,\n",
              "        3.26578629e-05, 9.93267775e-01],\n",
              "       [8.04377138e-04, 2.73746427e-05, 4.30099200e-04, 2.89754779e-03,\n",
              "        1.10443973e-03, 6.71048343e-01, 3.16341937e-01, 1.41908376e-05,\n",
              "        7.16821849e-03, 1.63489909e-04],\n",
              "       [7.04539804e-09, 1.14997167e-09, 1.81353421e-08, 5.28648889e-06,\n",
              "        1.11005873e-04, 9.93219871e-08, 5.26815487e-15, 3.55359043e-06,\n",
              "        8.12938623e-08, 9.99879837e-01]], dtype=float32)"
            ]
          },
          "metadata": {
            "tags": []
          },
          "execution_count": 31
        }
      ]
    },
    {
      "cell_type": "code",
      "metadata": {
        "id": "5HLcYJ65sEgu",
        "colab_type": "code",
        "colab": {
          "base_uri": "https://localhost:8080/",
          "height": 34
        },
        "outputId": "f8bf0cbb-7791-4b3f-9db6-73d9d0ad8f44"
      },
      "source": [
        "model.predict_classes(np.expand_dims(test_digits_sc[0],axis=0))"
      ],
      "execution_count": null,
      "outputs": [
        {
          "output_type": "execute_result",
          "data": {
            "text/plain": [
              "array([7])"
            ]
          },
          "metadata": {
            "tags": []
          },
          "execution_count": 32
        }
      ]
    },
    {
      "cell_type": "code",
      "metadata": {
        "id": "PFQenwjcsIX7",
        "colab_type": "code",
        "colab": {
          "base_uri": "https://localhost:8080/",
          "height": 34
        },
        "outputId": "813c7427-944f-44df-f9eb-ebde2e667cae"
      },
      "source": [
        "model.predict_classes(test_digits_sc[:10])"
      ],
      "execution_count": null,
      "outputs": [
        {
          "output_type": "execute_result",
          "data": {
            "text/plain": [
              "array([7, 2, 1, 0, 4, 1, 4, 9, 5, 9])"
            ]
          },
          "metadata": {
            "tags": []
          },
          "execution_count": 33
        }
      ]
    },
    {
      "cell_type": "code",
      "metadata": {
        "id": "7p7YYMa_sLiI",
        "colab_type": "code",
        "colab": {
          "base_uri": "https://localhost:8080/",
          "height": 70
        },
        "outputId": "3cfa58da-8d60-4c99-914c-a1e73a4fc51a"
      },
      "source": [
        "\n",
        "model.predict_proba(np.expand_dims(test_digits_sc[0],axis=0))"
      ],
      "execution_count": null,
      "outputs": [
        {
          "output_type": "execute_result",
          "data": {
            "text/plain": [
              "array([[3.6466181e-17, 8.1906239e-11, 9.6417374e-10, 1.5010546e-09,\n",
              "        9.1069234e-07, 2.2914446e-15, 3.1414953e-17, 9.9999690e-01,\n",
              "        2.0580349e-10, 2.1014500e-06]], dtype=float32)"
            ]
          },
          "metadata": {
            "tags": []
          },
          "execution_count": 34
        }
      ]
    },
    {
      "cell_type": "code",
      "metadata": {
        "id": "iGGEOeJusPjs",
        "colab_type": "code",
        "colab": {
          "base_uri": "https://localhost:8080/",
          "height": 727
        },
        "outputId": "44bfffdd-212c-4d84-cca5-00a5b0e32257"
      },
      "source": [
        "history.history\n",
        "#this is a dictionary"
      ],
      "execution_count": null,
      "outputs": [
        {
          "output_type": "execute_result",
          "data": {
            "text/plain": [
              "{'accuracy': [0.91455555,\n",
              "  0.9635556,\n",
              "  0.9725556,\n",
              "  0.977,\n",
              "  0.9811111,\n",
              "  0.98337036,\n",
              "  0.9857037,\n",
              "  0.98657405,\n",
              "  0.988,\n",
              "  0.9895926],\n",
              " 'loss': [0.27813295141414357,\n",
              "  0.12542401235688616,\n",
              "  0.09434405372505662,\n",
              "  0.0778051335698304,\n",
              "  0.06452824819048315,\n",
              "  0.05776802030839543,\n",
              "  0.04908311599838392,\n",
              "  0.046182918936087475,\n",
              "  0.041354082018428016,\n",
              "  0.03646730654185133],\n",
              " 'val_accuracy': [0.9503333568572998,\n",
              "  0.9696666598320007,\n",
              "  0.971833348274231,\n",
              "  0.9738333225250244,\n",
              "  0.9706666469573975,\n",
              "  0.9723333120346069,\n",
              "  0.9786666631698608,\n",
              "  0.9750000238418579,\n",
              "  0.9788333177566528,\n",
              "  0.9801666736602783],\n",
              " 'val_loss': [0.17106097165246806,\n",
              "  0.1046557402126491,\n",
              "  0.0948419502042234,\n",
              "  0.08568146498439212,\n",
              "  0.1042485453983148,\n",
              "  0.0952437768081824,\n",
              "  0.08574911494902335,\n",
              "  0.10362057351569334,\n",
              "  0.08598855422840763,\n",
              "  0.08259190682989234]}"
            ]
          },
          "metadata": {
            "tags": []
          },
          "execution_count": 35
        }
      ]
    },
    {
      "cell_type": "code",
      "metadata": {
        "id": "7EO14Y-QsTNL",
        "colab_type": "code",
        "colab": {
          "base_uri": "https://localhost:8080/",
          "height": 34
        },
        "outputId": "ba1dc8f1-dc68-46b7-817e-7c7be6211adb"
      },
      "source": [
        "history.history.keys()"
      ],
      "execution_count": null,
      "outputs": [
        {
          "output_type": "execute_result",
          "data": {
            "text/plain": [
              "dict_keys(['val_loss', 'val_accuracy', 'loss', 'accuracy'])"
            ]
          },
          "metadata": {
            "tags": []
          },
          "execution_count": 36
        }
      ]
    },
    {
      "cell_type": "code",
      "metadata": {
        "id": "t8_6WxnNsXnK",
        "colab_type": "code",
        "colab": {
          "base_uri": "https://localhost:8080/",
          "height": 282
        },
        "outputId": "f098fc62-b55b-4973-8433-af9b71e82e6f"
      },
      "source": [
        "\n",
        "plt.plot(range(1,11),history.history['accuracy'])"
      ],
      "execution_count": null,
      "outputs": [
        {
          "output_type": "execute_result",
          "data": {
            "text/plain": [
              "[<matplotlib.lines.Line2D at 0x7fbe3dce1f60>]"
            ]
          },
          "metadata": {
            "tags": []
          },
          "execution_count": 37
        },
        {
          "output_type": "display_data",
          "data": {
            "image/png": "[encoded data removed]",
            "text/plain": [
              "<Figure size 432x288 with 1 Axes>"
            ]
          },
          "metadata": {
            "tags": [],
            "needs_background": "light"
          }
        }
      ]
    },
    {
      "cell_type": "code",
      "metadata": {
        "id": "C2LElIscsdst",
        "colab_type": "code",
        "colab": {
          "base_uri": "https://localhost:8080/",
          "height": 282
        },
        "outputId": "d055f270-3ac6-440b-bf3f-044bfcc72274"
      },
      "source": [
        "plt.plot(range(1,11),history.history['val_accuracy'])"
      ],
      "execution_count": null,
      "outputs": [
        {
          "output_type": "execute_result",
          "data": {
            "text/plain": [
              "[<matplotlib.lines.Line2D at 0x7fbe3dcd18d0>]"
            ]
          },
          "metadata": {
            "tags": []
          },
          "execution_count": 38
        },
        {
          "output_type": "display_data",
          "data": {
            "image/png": "[encoded data removed]",
            "text/plain": [
              "<Figure size 432x288 with 1 Axes>"
            ]
          },
          "metadata": {
            "tags": [],
            "needs_background": "light"
          }
        }
      ]
    },
    {
      "cell_type": "code",
      "metadata": {
        "id": "VgmVK6Y2shui",
        "colab_type": "code",
        "colab": {
          "base_uri": "https://localhost:8080/",
          "height": 282
        },
        "outputId": "dcecbf37-53ee-468e-afd0-96beb0083357"
      },
      "source": [
        "\n",
        "plt.plot(range(1,11),history.history['accuracy'])\n",
        "plt.plot(range(1,11),history.history['val_accuracy'])"
      ],
      "execution_count": null,
      "outputs": [
        {
          "output_type": "execute_result",
          "data": {
            "text/plain": [
              "[<matplotlib.lines.Line2D at 0x7fbe3dc88ef0>]"
            ]
          },
          "metadata": {
            "tags": []
          },
          "execution_count": 39
        },
        {
          "output_type": "display_data",
          "data": {
            "image/png": "[encoded data removed]",
            "text/plain": [
              "<Figure size 432x288 with 1 Axes>"
            ]
          },
          "metadata": {
            "tags": [],
            "needs_background": "light"
          }
        }
      ]
    },
    {
      "cell_type": "code",
      "metadata": {
        "id": "S-imtvfosnAX",
        "colab_type": "code",
        "colab": {}
      },
      "source": [
        ""
      ],
      "execution_count": null,
      "outputs": []
    }
  ]
}